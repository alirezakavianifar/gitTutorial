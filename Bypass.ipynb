{
  "nbformat": 4,
  "nbformat_minor": 0,
  "metadata": {
    "colab": {
      "provenance": [],
      "authorship_tag": "ABX9TyOU1jI0SvgBvs7dGSdlfnsL",
      "include_colab_link": true
    },
    "kernelspec": {
      "name": "python3",
      "display_name": "Python 3"
    },
    "language_info": {
      "name": "python"
    }
  },
  "cells": [
    {
      "cell_type": "markdown",
      "metadata": {
        "id": "view-in-github",
        "colab_type": "text"
      },
      "source": [
        "<a href=\"https://colab.research.google.com/github/alirezakavianifar/gitTutorial/blob/developer/Bypass.ipynb\" target=\"_parent\"><img src=\"https://colab.research.google.com/assets/colab-badge.svg\" alt=\"Open In Colab\"/></a>"
      ]
    },
    {
      "cell_type": "code",
      "execution_count": null,
      "metadata": {
        "id": "pm9WTUPaHK4A"
      },
      "outputs": [],
      "source": [
        "import numpy as np\n",
        "\n",
        "# Activation functions\n",
        "def relu(x):\n",
        "    return np.maximum(0, x)\n",
        "\n",
        "def linear(x):\n",
        "    return x\n",
        "\n",
        "# Initialize parameters\n",
        "np.random.seed(0)  # For reproducibility\n",
        "W1 = np.random.randn(3, 2)\n",
        "W2 = np.random.randn(1, 3)\n",
        "W_bypass = np.random.randn(1, 2)\n",
        "\n",
        "# Learning rate\n",
        "learning_rate = 0.01\n",
        "\n",
        "# Inputs (batch of 4)\n",
        "P = np.array([\n",
        "    [1, 2],\n",
        "    [2, -3],\n",
        "    [0, 2],\n",
        "    [-1, -4]\n",
        "])\n",
        "\n",
        "# Labels\n",
        "Y = np.array([2.2, 7.5, 9.2, 8.1])\n",
        "\n",
        "# Forward pass\n",
        "def forward(P, W1, W2, W_bypass):\n",
        "    A1 = np.dot(P, W1.T)\n",
        "    H1 = relu(A1)\n",
        "    A2 = np.dot(H1, W2.T) + np.dot(P, W_bypass.T)\n",
        "    H2 = linear(A2)\n",
        "    return H1, H2\n",
        "\n",
        "# Compute MSE loss\n",
        "def compute_loss(H2, Y):\n",
        "    loss = np.mean((H2 - Y) ** 2)\n",
        "    return loss\n",
        "\n",
        "# Backward pass (Gradient computation)\n",
        "def backward(P, H1, H2, Y, W1, W2, W_bypass):\n",
        "    dH2 = 2 * (H2 - Y) / len(Y)  # Derivative of MSE with respect to H2\n",
        "    dW2 = np.dot(dH2.T, H1)  # Gradient for W2\n",
        "    dW_bypass = np.dot(dH2.T, P)  # Gradient for W_bypass\n",
        "\n",
        "    dH1 = np.dot(dH2, W2)  # Propagate error to H1\n",
        "    dA1 = dH1 * (H1 > 0)  # Derivative of ReLU\n",
        "\n",
        "    dW1 = np.dot(dA1.T, P)  # Gradient for W1\n",
        "\n",
        "    return dW1, dW2, dW_bypass\n",
        "\n",
        "# Training loop\n",
        "num_epochs = 1000\n",
        "for epoch in range(num_epochs):\n",
        "    # Forward pass\n",
        "    H1, H2 = forward(P, W1, W2, W_bypass)\n",
        "\n",
        "    # Compute loss\n",
        "    loss = compute_loss(H2, Y)\n",
        "\n",
        "    # Backward pass\n",
        "    dW1, dW2, dW_bypass = backward(P, H1, H2, Y, W1, W2, W_bypass)\n",
        "\n",
        "    # Update parameters\n",
        "    W1 -= learning_rate * dW1\n",
        "    W2 -= learning_rate * dW2\n",
        "    W_bypass -= learning_rate * dW_bypass\n",
        "\n",
        "    if epoch % 100 == 0:\n",
        "        print(f'Epoch {epoch}, Loss: {loss:.4f}')\n",
        "\n",
        "# Print final parameters\n",
        "print(\"Final parameters:\")\n",
        "print(\"W1:\", W1)\n",
        "print(\"W2:\", W2)\n",
        "print(\"W_bypass:\", W_bypass)"
      ]
    },
    {
      "cell_type": "code",
      "source": [],
      "metadata": {
        "id": "uehyEI8-HqTX"
      },
      "execution_count": null,
      "outputs": []
    }
  ]
}