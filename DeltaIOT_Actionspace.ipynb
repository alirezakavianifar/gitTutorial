{
  "nbformat": 4,
  "nbformat_minor": 0,
  "metadata": {
    "colab": {
      "provenance": [],
      "authorship_tag": "ABX9TyP1H5+cvrOwiUfaV/V/aYi8",
      "include_colab_link": true
    },
    "kernelspec": {
      "name": "python3",
      "display_name": "Python 3"
    },
    "language_info": {
      "name": "python"
    }
  },
  "cells": [
    {
      "cell_type": "markdown",
      "metadata": {
        "id": "view-in-github",
        "colab_type": "text"
      },
      "source": [
        "<a href=\"https://colab.research.google.com/github/alirezakavianifar/gitTutorial/blob/developer/DeltaIOT_Actionspace.ipynb\" target=\"_parent\"><img src=\"https://colab.research.google.com/assets/colab-badge.svg\" alt=\"Open In Colab\"/></a>"
      ]
    },
    {
      "cell_type": "code",
      "execution_count": null,
      "metadata": {
        "id": "lR30O3rOIAVe"
      },
      "outputs": [],
      "source": []
    },
    {
      "cell_type": "markdown",
      "source": [
        "Sure, here is the text extracted from the image:\n",
        "\n",
        "---\n",
        "\n",
        "**2.1 DeltaloT**\n",
        "\n",
        "DeltaIoT is a reference Internet-of-Things (IoT) application that has been deployed at the Campus Computer Science of KU Leuven [35]. DeltaIoT has been developed to support research on self-adaptation, i.e. evaluate new self-adaptive approaches, e.g. to evaluate tradeoffs between non-functional requirements in self-adaptive systems [21] or perform cost-benefit-analysis in runtime decision-making for self-adaptation [69]. Next to the real physical setup deployed by VersaSense, DeltaIoT also offers a simulator for offline experimentation. We use DeltaIoT as evaluation case, but also as running example to illustrate the different parts that follow in this section.\n",
        "\n",
        "Figure 1 shows the physical setup of DeltaIoT. RFID sensors are used to provide access control to labs, passive infrared sensors monitor the occupancy of several buildings, and heat sensors are employed to sense the temperature. The data of these sensors is relayed to the gateway by means of wireless multi-hop communication. Each sensor is plugged into a battery-powered mote, i.e., a networked tiny embedded computer. The motes take care of the routing of sensor data to the gateway. The communication in DeltaIoT is time-synchronized and organized in cycles with a fixed number of slots. Neighboring motes are assigned such slots during which they can exchange packets. Motes collect data (locally generated or received from other motes) in a buffer. When a mote gets a turn to communicate with another mote, it forwards the packets to the other mote. Packets that cannot remain in the buffer until the mote is assigned a next slot.\n",
        "\n",
        "DeltaIoT has three main quality requirements: packet loss, latency, and energy consumption. For these qualities we define corresponding adaptation goals, e.g. average latency of packages delivery should not exceed a predefined percentage and energy consumption of the network should be minimized. Ensuring such goals is challenging since the IoT network is subject to various types of uncertainties. Two main uncertainties are interference along network links caused by external phenomena, and changing load in the network, that is, motes only send packets when there is useful data, which may be difficult to predict. The IoT network can be adapted using two parameters: power setting and link distribution. The first parameter refers to the setting of the transmission power of each mote. The options are discretized as an integer in the range of 1 to 15. Increasing the transmission power will reduce packet loss, but increase energy consumption. The second parameter refers to the way data packets are relayed from the motes to the gateways. Observe in Figure 1 that several motes have multiple links over which data can be sent. We refer to the distribution of packets sent by a mote to its parents as the link distribution. If a mote has only one parent, it is obvious that it relays 100% of its packets through that single parent. But when a mote has multiple parents, the distribution of packets over the different links to the parents can be selected and changed. Note that the sum of the distributions should remain 100% (to optimize energy consumption). By changing the link distribution, paths with more interference can be avoided. However, this may cause delays at the buffers of the motes along these paths.\n",
        "\n",
        "For practical reasons, we use the DeltaIoT simulator for the evaluation of DLASeR+, since extensive experimentation on a physical IoT deployment is particularly time consuming. The DeltaIoT simulator offers a realistic alternative for the physical network where parameters of the simulator are based on field experiments. We consider two instances of DeltaIoT. The first one, referred to as DeltaIoTv1, consists of 15 motes (shown in Figure 1); the second instance, referred to as DeltaIoTv2, consists of 37 motes. The larger IoT network is more challenging in terms of the number of configurations that are available to adapt the system representing the adaptation space. In particular, the adaptation space of DeltaIoTv1 contains 216 possible adaptation options, while DeltaIoTv2 has 40% adaptation options. These numbers are determined by the parameters of the IoT network that can be used for adapting the system: power setting and link distribution. Hence, for both versions, the number of adaptation options is constant. However, as will explain in Section 2.4, the properties of the adaptation options change dynamically with changing conditions.\n",
        "\n",
        "---\n",
        "\n",
        "ACM Trans. Autonom. Adapt. Syst., Vol. 1, No. 1, Article. Publication date: April 2021.\n",
        "\n",
        "---"
      ],
      "metadata": {
        "id": "BRyyqEeIIFy3"
      }
    },
    {
      "cell_type": "markdown",
      "source": [
        "DeltaIoT can be formulated in terms of Reinforcement Learning (RL) by defining the state space, action space, and the reward function. Here is a formulation based on the provided description:\n",
        "\n",
        "### State Space (S)\n",
        "The state space \\( S \\) for DeltaIoT includes all the possible states of the network at any given time. This could involve:\n",
        "\n",
        "1. **Sensor Data**: Readings from RFID sensors, passive infrared sensors, and heat sensors.\n",
        "   - \\( s_1 \\): Access control data (binary values indicating access events).\n",
        "   - \\( s_2 \\): Occupancy data (number of occupants in buildings).\n",
        "   - \\( s_3 \\): Temperature data (temperature readings from heat sensors).\n",
        "\n",
        "2. **Network Parameters**:\n",
        "   - \\( s_4 \\): Transmission power settings of each mote (discretized levels from 1 to 15).\n",
        "   - \\( s_5 \\): Link distribution settings (percentage of data sent through each link).\n",
        "\n",
        "3. **Network Conditions**:\n",
        "   - \\( s_6 \\): Current buffer status of each mote (amount of data in the buffer).\n",
        "   - \\( s_7 \\): Interference levels on different network links (estimated interference levels).\n",
        "   - \\( s_8 \\): Load on each mote (current data transmission load).\n",
        "\n",
        "A state \\( s \\) in the state space \\( S \\) is a combination of these parameters at any given time.\n",
        "\n",
        "### Action Space (A)\n",
        "The action space \\( A \\) for DeltaIoT includes the possible adjustments that can be made to the network parameters:\n",
        "\n",
        "1. **Transmission Power Setting**:\n",
        "   - Adjust the transmission power of each mote.\n",
        "   - Possible actions \\( a_1 \\) could be setting the transmission power to a value between 1 and 15.\n",
        "\n",
        "2. **Link Distribution**:\n",
        "   - Change the percentage of data packets routed through different parent motes.\n",
        "   - Possible actions \\( a_2 \\) could be setting the distribution percentages, ensuring they sum up to 100%.\n",
        "\n",
        "An action \\( a \\) in the action space \\( A \\) could be represented as a tuple:\n",
        "\\[ a = (a_1, a_2) \\]\n",
        "where \\( a_1 \\) represents a set of transmission power settings for all motes and \\( a_2 \\) represents a set of link distributions for all motes.\n",
        "\n",
        "### Reward Function (R)\n",
        "The reward function \\( R \\) needs to capture the goals of minimizing packet loss, latency, and energy consumption. A potential reward function could be:\n",
        "\n",
        "\\[ R(s, a) = -\\alpha \\cdot \\text{Packet Loss} - \\beta \\cdot \\text{Latency} - \\gamma \\cdot \\text{Energy Consumption} \\]\n",
        "\n",
        "where:\n",
        "- \\( \\alpha \\), \\( \\beta \\), and \\( \\gamma \\) are weighting factors that balance the importance of packet loss, latency, and energy consumption.\n",
        "- Packet loss, latency, and energy consumption are measured based on the state \\( s \\) and the action \\( a \\).\n",
        "\n",
        "The agent's goal is to maximize the cumulative reward over time, which translates to optimizing the network performance by minimizing packet loss, latency, and energy consumption.\n",
        "\n",
        "### Summary\n",
        "- **State Space \\( S \\)**: Combination of sensor data, network parameters, and network conditions.\n",
        "- **Action Space \\( A \\)**: Adjustments to transmission power settings and link distribution.\n",
        "- **Reward Function \\( R \\)**: A weighted negative sum of packet loss, latency, and energy consumption.\n",
        "\n",
        "By defining DeltaIoT in these terms, an RL agent can learn to adaptively manage the IoT network to achieve optimal performance."
      ],
      "metadata": {
        "id": "kYoVtEqxIBrp"
      }
    }
  ]
}